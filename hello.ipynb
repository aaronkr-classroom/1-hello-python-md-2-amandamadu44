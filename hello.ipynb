{
 "cells": [
  {
   "cell_type": "markdown",
   "id": "c9916c33",
   "metadata": {},
   "source": [
    "**Hello** _World_ This [Google.com](https://google.com)"
   ]
  },
  {
   "cell_type": "markdown",
   "id": "5aaacbe4",
   "metadata": {},
   "source": [
    "1. Amanda\n",
    "2. Madu\n",
    "3. Chidera\n",
    "---"
   ]
  },
  {
   "cell_type": "markdown",
   "id": "c9748a95",
   "metadata": {},
   "source": [
    "| Type | Desc, | ext |\n",
    "| --- | --- | --- |\n",
    "| JPG | J PORTABLE GRAPHICS |`.jpg`|\n",
    "| PNG | PORTABELE NETWORK GRAPHICS |`.png`|"
   ]
  },
  {
   "cell_type": "code",
   "execution_count": null,
   "id": "891676f9",
   "metadata": {},
   "outputs": [
    {
     "ename": "",
     "evalue": "",
     "output_type": "error",
     "traceback": [
      "\u001b[1;31mRunning cells with 'Python 3.12.11' requires the ipykernel package.\n",
      "\u001b[1;31mInstall 'ipykernel' into the Python environment. \n",
      "\u001b[1;31mCommand: '/usr/bin/python -m pip install ipykernel -U --user --force-reinstall'"
     ]
    }
   ],
   "source": [
    "name = \"Amanda\"\n",
    "print (name)"
   ]
  },
  {
   "cell_type": "code",
   "execution_count": null,
   "id": "f7f03b60",
   "metadata": {},
   "outputs": [],
   "source": []
  }
 ],
 "metadata": {
  "kernelspec": {
   "display_name": "Python 3",
   "language": "python",
   "name": "python3"
  },
  "language_info": {
   "name": "python",
   "version": "3.12.11"
  }
 },
 "nbformat": 4,
 "nbformat_minor": 5
}
